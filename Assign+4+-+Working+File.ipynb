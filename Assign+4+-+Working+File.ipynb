{
 "cells": [
  {
   "cell_type": "code",
   "execution_count": 2,
   "metadata": {
    "collapsed": true
   },
   "outputs": [],
   "source": [
    "import pandas as pd\n",
    "import numpy as np\n",
    "from scipy.stats import ttest_ind"
   ]
  },
  {
   "cell_type": "code",
   "execution_count": null,
   "metadata": {},
   "outputs": [],
   "source": [
    "def get_list_of_university_towns():\n",
    "    uni_towns = open('university_towns.txt') \n",
    "    uni_towns_df = []\n",
    "    state = None\n",
    "    state_towns = []\n",
    "    with uni_towns as file:\n",
    "        for line in file:\n",
    "            thisLine = line[:-1]\n",
    "            if thisLine[-6:] == '[edit]':\n",
    "                state = thisLine[:-6]\n",
    "                continue\n",
    "            if '(' in line:\n",
    "                town = thisLine[:thisLine.index('(')-1]\n",
    "                state_towns.append([state,town])\n",
    "            else:\n",
    "                town = thisLine\n",
    "                state_towns.append([state,town])\n",
    "            uni_towns_df.append(thisLine)\n",
    "    df = pd.DataFrame(state_towns,columns = ['State','RegionName'])\n",
    "    return df\n",
    "get_list_of_university_towns()"
   ]
  },
  {
   "cell_type": "code",
   "execution_count": null,
   "metadata": {},
   "outputs": [],
   "source": [
    "def get_recession_start():\n",
    "    gdp = (pd.read_excel('gdplev.xls', skiprows=219, skipfooter=0).drop(labels=['Unnamed: 0','Unnamed: 1',\n",
    "                                                                            'Unnamed: 2', 'Unnamed: 3', 12323.3,\n",
    "                                                                                'Unnamed: 7'], axis=1))\n",
    "    gdp = gdp.rename(index=str, columns={\"1999q4\": \"Quarter\", 9926.1: \"GDP\"})\n",
    "    for i in range(2, len(gdp)):\n",
    "        if (gdp.iloc[i-2][1] > gdp.iloc[i-1][1]) and (gdp.iloc[i-1][1] > gdp.iloc[i][1]):\n",
    "            return gdp.iloc[i-2][0]\n",
    "        \n",
    "get_recession_start()"
   ]
  },
  {
   "cell_type": "code",
   "execution_count": null,
   "metadata": {},
   "outputs": [],
   "source": [
    "def get_recession_end():\n",
    "    gdp = (pd.read_excel('gdplev.xls', skiprows=219, skipfooter=0).drop(labels=['Unnamed: 0','Unnamed: 1',\n",
    "                                                                            'Unnamed: 2', 'Unnamed: 3', 12323.3,\n",
    "                                                                                'Unnamed: 7'], axis=1))\n",
    "    gdp = gdp.rename(index=str, columns={\"1999q4\": \"Quarter\", 9926.1: \"GDP\"})\n",
    "    start_index = gdp[gdp['Quarter'] == get_recession_start()].index.tolist()[0]\n",
    "    gdp = gdp[start_index:]\n",
    "    for i in range(2, len(gdp)):\n",
    "        if (gdp.iloc[i-2][1] < gdp.iloc[i-1][1]) and (gdp.iloc[i-1][1] < gdp.iloc[i][1]):\n",
    "            return gdp.iloc[i-2][0]\n",
    "        \n",
    "get_recession_end()"
   ]
  },
  {
   "cell_type": "code",
   "execution_count": null,
   "metadata": {},
   "outputs": [],
   "source": [
    "def get_recession_bottom():\n",
    "    gdp = (pd.read_excel('gdplev.xls', skiprows=219, skipfooter=0).drop(labels=['Unnamed: 0','Unnamed: 1',\n",
    "                                                                            'Unnamed: 2', 'Unnamed: 3', 12323.3,\n",
    "                                                                                'Unnamed: 7'], axis=1))\n",
    "    gdp = gdp.rename(index=str, columns={\"1999q4\": \"Quarter\", 9926.1: \"GDP\"})\n",
    "    start_index = gdp[gdp['Quarter'] == get_recession_start()].index.tolist()[0]\n",
    "    end_index = gdp[gdp['Quarter'] == get_recession_end()].index.tolist()[0]\n",
    "    \n",
    "    min_gdp = gdp[start_index:end_index].min()[1]\n",
    "\n",
    "    return gdp[gdp['GDP'] == min_gdp].iloc[0]['Quarter']\n",
    "\n",
    "get_recession_bottom()"
   ]
  },
  {
   "cell_type": "code",
   "execution_count": null,
   "metadata": {},
   "outputs": [],
   "source": [
    "def convert_housing_data_to_quarters():\n",
    "    states = {'OH': 'Ohio', 'KY': 'Kentucky', 'AS': 'American Samoa', 'NV': 'Nevada', 'WY': 'Wyoming', 'NA': 'National', 'AL': 'Alabama', 'MD': 'Maryland', 'AK': 'Alaska', 'UT': 'Utah', 'OR': 'Oregon', 'MT': 'Montana', 'IL': 'Illinois', 'TN': 'Tennessee', 'DC': 'District of Columbia', 'VT': 'Vermont', 'ID': 'Idaho', 'AR': 'Arkansas', 'ME': 'Maine', 'WA': 'Washington', 'HI': 'Hawaii', 'WI': 'Wisconsin', 'MI': 'Michigan', 'IN': 'Indiana', 'NJ': 'New Jersey', 'AZ': 'Arizona', 'GU': 'Guam', 'MS': 'Mississippi', 'PR': 'Puerto Rico', 'NC': 'North Carolina', 'TX': 'Texas', 'SD': 'South Dakota', 'MP': 'Northern Mariana Islands', 'IA': 'Iowa', 'MO': 'Missouri', 'CT': 'Connecticut', 'WV': 'West Virginia', 'SC': 'South Carolina', 'LA': 'Louisiana', 'KS': 'Kansas', 'NY': 'New York', 'NE': 'Nebraska', 'OK': 'Oklahoma', 'FL': 'Florida', 'CA': 'California', 'CO': 'Colorado', 'PA': 'Pennsylvania', 'DE': 'Delaware', 'NM': 'New Mexico', 'RI': 'Rhode Island', 'MN': 'Minnesota', 'VI': 'Virgin Islands', 'NH': 'New Hampshire', 'MA': 'Massachusetts', 'GA': 'Georgia', 'ND': 'North Dakota', 'VA': 'Virginia'}\n",
    "    home_data = pd.read_csv('City_Zhvi_AllHomes.csv').drop(['Metro','CountyName','RegionID','SizeRank'],axis=1)\n",
    "    #map in the state names     \n",
    "    home_data['State'] = home_data['State'].map(states)\n",
    "    #set the index\n",
    "    home_data.set_index(['State','RegionName'],inplace=True)\n",
    "\n",
    "    drop_cols = list(home_data.columns)[0:45]\n",
    "    home_data = home_data.drop(drop_cols,axis=1)\n",
    "\n",
    "    home_data_q = (home_data.groupby(pd.PeriodIndex(home_data.columns, freq='Q'), axis=1)\n",
    "                      .mean()\n",
    "                      .rename(columns=lambda c: str(c).lower()))\n",
    "    \n",
    "    return home_data_q"
   ]
  },
  {
   "cell_type": "code",
   "execution_count": null,
   "metadata": {},
   "outputs": [],
   "source": [
    "test_data = convert_housing_data_to_quarters().copy()\n",
    "test_data = test_data.loc[:,'2008q3':'2009q2']\n",
    "test_data['Delta'] = (test_data['2009q2']-test_data['2008q3'])/test_data['2008q3']\n",
    "test_data = test_data.reset_index()\n",
    "\n",
    "uni_town = pd.DataFrame(get_list_of_university_towns()['RegionName'])\n",
    "uni_town['uni_town'] = 1\n",
    "uni_town = uni_town.drop_duplicates()\n",
    "\n",
    "merged_data = pd.merge(test_data, uni_town, on='RegionName', how='left')\n",
    "#merged_data.set_index(['State','RegionName'],inplace=True)\n",
    "merged_data = merged_data.fillna(0)\n",
    "\n",
    "not_uni = merged_data[merged_data['uni_town']==0].loc[:,'Delta'].dropna()\n",
    "is_uni  = merged_data[merged_data['uni_town']==1].loc[:,'Delta'].dropna()\n",
    "\n",
    "if not_uni.mean() > is_uni.mean():\n",
    "    better = 'non-university town'\n",
    "else:\n",
    "    better = 'university town'\n",
    "\n",
    "if p_val < .05:\n",
    "    significant = True\n",
    "else:\n",
    "    significant = False\n",
    "\n",
    "p_val = list(ttest_ind(not_uni, is_uni))[1]\n",
    "\n",
    "result = (significant,p_val,better)\n",
    "\n",
    "print(result)"
   ]
  },
  {
   "cell_type": "raw",
   "metadata": {},
   "source": []
  },
  {
   "cell_type": "code",
   "execution_count": null,
   "metadata": {
    "collapsed": true
   },
   "outputs": [],
   "source": []
  }
 ],
 "metadata": {
  "kernelspec": {
   "display_name": "Python 3",
   "language": "python",
   "name": "python3"
  },
  "language_info": {
   "codemirror_mode": {
    "name": "ipython",
    "version": 3
   },
   "file_extension": ".py",
   "mimetype": "text/x-python",
   "name": "python",
   "nbconvert_exporter": "python",
   "pygments_lexer": "ipython3",
   "version": "3.6.0"
  }
 },
 "nbformat": 4,
 "nbformat_minor": 2
}
